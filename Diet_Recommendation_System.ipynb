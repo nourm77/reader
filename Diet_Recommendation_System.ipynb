{
  "nbformat": 4,
  "nbformat_minor": 0,
  "metadata": {
    "colab": {
      "provenance": [],
      "authorship_tag": "ABX9TyPBg7Ljd8qROcsTLMEEdW3e",
      "include_colab_link": true
    },
    "kernelspec": {
      "name": "python3",
      "display_name": "Python 3"
    },
    "language_info": {
      "name": "python"
    }
  },
  "cells": [
    {
      "cell_type": "markdown",
      "metadata": {
        "id": "view-in-github",
        "colab_type": "text"
      },
      "source": [
        "<a href=\"https://colab.research.google.com/github/nourm77/reader/blob/main/Diet_Recommendation_System.ipynb\" target=\"_parent\"><img src=\"https://colab.research.google.com/assets/colab-badge.svg\" alt=\"Open In Colab\"/></a>"
      ]
    },
    {
      "cell_type": "code",
      "execution_count": null,
      "metadata": {
        "id": "hjDmisg-Pj0D"
      },
      "outputs": [],
      "source": [
        "import pandas as pd\n",
        "import numpy as np\n",
        "import tensorflow as tf\n",
        "import matplotlib.pyplot as plt"
      ]
    },
    {
      "cell_type": "code",
      "source": [
        "from google.colab import drive\n",
        "drive.mount('/content/drive')"
      ],
      "metadata": {
        "id": "DEf7sl7TWcUd"
      },
      "execution_count": null,
      "outputs": []
    },
    {
      "cell_type": "code",
      "source": [
        "! unzip '/content/drive/MyDrive/Grad Dataset/recipes.csv.zip'"
      ],
      "metadata": {
        "id": "wFIIEJ8MXXFM"
      },
      "execution_count": null,
      "outputs": []
    },
    {
      "cell_type": "code",
      "source": [
        "data=pd.read_csv('/content/drive/MyDrive/Grad Dataset/recipes.csv.zip')"
      ],
      "metadata": {
        "id": "XGP2uJx9Przz"
      },
      "execution_count": null,
      "outputs": []
    },
    {
      "cell_type": "code",
      "source": [
        "data.head()\n"
      ],
      "metadata": {
        "id": "UxejeU9uPtwW"
      },
      "execution_count": null,
      "outputs": []
    },
    {
      "cell_type": "code",
      "source": [
        "data.isnull().sum()\n"
      ],
      "metadata": {
        "id": "DVpJuUphoBrC"
      },
      "execution_count": null,
      "outputs": []
    },
    {
      "cell_type": "code",
      "source": [
        "data.dropna(how = 'any', inplace = True)\n"
      ],
      "metadata": {
        "id": "urbZhzGd2_6f"
      },
      "execution_count": null,
      "outputs": []
    },
    {
      "cell_type": "code",
      "source": [
        "data.isnull().sum()\n"
      ],
      "metadata": {
        "id": "idCYIbLN3Hf7"
      },
      "execution_count": null,
      "outputs": []
    },
    {
      "cell_type": "markdown",
      "source": [
        "**Exploring the data**\n",
        "\n",
        "\n"
      ],
      "metadata": {
        "id": "iQUtTrTSPyGa"
      }
    },
    {
      "cell_type": "code",
      "source": [
        "data.info()\n"
      ],
      "metadata": {
        "id": "Q4qa6s70Pt0S"
      },
      "execution_count": null,
      "outputs": []
    },
    {
      "cell_type": "code",
      "source": [
        "\n",
        "fig, ax = plt.subplots(figsize=(10, 8))\n",
        "plt.title('Frequency Histogram')\n",
        "plt.ylabel('Frequency')\n",
        "plt.xlabel('Bins Center')\n",
        "ax.hist(data.Calories.to_numpy(),bins=[0,100,200,300,400,500,600,700,800,900,1000,1000,2000,3000,5000],linewidth=0.5, edgecolor=\"white\")\n",
        "plt.show()"
      ],
      "metadata": {
        "id": "80zTuKl4Pt4G"
      },
      "execution_count": null,
      "outputs": []
    },
    {
      "cell_type": "code",
      "source": [
        "import pylab\n",
        "import scipy.stats as stats\n",
        "stats.probplot(data.Calories.to_numpy(), dist=\"norm\", plot=pylab)\n",
        "pylab.show()"
      ],
      "metadata": {
        "id": "6st38c5ePt7S"
      },
      "execution_count": null,
      "outputs": []
    },
    {
      "cell_type": "markdown",
      "source": [
        "**Preparing the Data**\n"
      ],
      "metadata": {
        "id": "l67rcxVbQI56"
      }
    },
    {
      "cell_type": "code",
      "source": [
        "\n",
        "dataset=data.copy()\n",
        "columns=['RecipeId','Name','CookTime','PrepTime','TotalTime','RecipeIngredientParts','Calories','FatContent','SaturatedFatContent','CholesterolContent','SodiumContent','CarbohydrateContent','FiberContent','SugarContent','ProteinContent','RecipeInstructions']\n",
        "dataset=dataset[columns]"
      ],
      "metadata": {
        "id": "5_gv5PY_QEHR"
      },
      "execution_count": null,
      "outputs": []
    },
    {
      "cell_type": "code",
      "source": [
        "max_Calories=3200\n",
        "max_daily_fat=100\n",
        "max_daily_Saturatedfat=13\n",
        "max_daily_Cholesterol=300\n",
        "max_daily_Sodium=2300\n",
        "max_daily_Carbohydrate=325\n",
        "max_daily_Fiber=40\n",
        "max_daily_Sugar=40\n",
        "max_daily_Protein=200\n",
        "max_list=[max_Calories,max_daily_fat,max_daily_Saturatedfat,max_daily_Cholesterol,max_daily_Sodium,max_daily_Carbohydrate,max_daily_Fiber,max_daily_Sugar,max_daily_Protein]\n"
      ],
      "metadata": {
        "id": "zzOtGveUQEJt"
      },
      "execution_count": null,
      "outputs": []
    },
    {
      "cell_type": "code",
      "source": [
        "extracted_data=dataset.copy()\n",
        "for column,maximum in zip(extracted_data.columns[6:15],max_list):\n",
        "    extracted_data=extracted_data[extracted_data[column]<maximum]"
      ],
      "metadata": {
        "id": "hoQCapPnQEMv"
      },
      "execution_count": null,
      "outputs": []
    },
    {
      "cell_type": "code",
      "source": [
        "extracted_data.info()\n"
      ],
      "metadata": {
        "id": "mVWSVKF9QEQ_"
      },
      "execution_count": null,
      "outputs": []
    },
    {
      "cell_type": "code",
      "source": [
        "\n",
        "extracted_data.iloc[:,6:15].corr()\n"
      ],
      "metadata": {
        "id": "LE2Dmd-uQZzL"
      },
      "execution_count": null,
      "outputs": []
    },
    {
      "cell_type": "code",
      "source": [
        "\n",
        "\n",
        "from sklearn.preprocessing import StandardScaler\n",
        "scaler=StandardScaler()\n",
        "prep_data=scaler.fit_transform(extracted_data.iloc[:,6:15].to_numpy())"
      ],
      "metadata": {
        "id": "nt_MN1RMQZ0w"
      },
      "execution_count": null,
      "outputs": []
    },
    {
      "cell_type": "code",
      "source": [
        "prep_data\n"
      ],
      "metadata": {
        "id": "CVAanytAQZ2J"
      },
      "execution_count": null,
      "outputs": []
    },
    {
      "cell_type": "markdown",
      "source": [
        "**Trainning the model**"
      ],
      "metadata": {
        "id": "zW8w6CIGQh3p"
      }
    },
    {
      "cell_type": "code",
      "source": [
        "from sklearn.neighbors import NearestNeighbors\n",
        "neigh = NearestNeighbors(metric='cosine',algorithm='brute')\n",
        "neigh.fit(prep_data)"
      ],
      "metadata": {
        "id": "2_S8GkV8QZ41"
      },
      "execution_count": null,
      "outputs": []
    },
    {
      "cell_type": "code",
      "source": [
        "from sklearn.pipeline import Pipeline\n",
        "from sklearn.preprocessing import FunctionTransformer\n",
        "transformer = FunctionTransformer(neigh.kneighbors,kw_args={'return_distance':False})\n",
        "pipeline=Pipeline([('std_scaler',scaler),('NN',transformer)])"
      ],
      "metadata": {
        "id": "MBFo3TJSQo6w"
      },
      "execution_count": null,
      "outputs": []
    },
    {
      "cell_type": "code",
      "source": [
        "params={'n_neighbors':10,'return_distance':False}\n",
        "pipeline.get_params()\n",
        "pipeline.set_params(NN__kw_args=params)"
      ],
      "metadata": {
        "id": "pKZpZiCWQo8Q"
      },
      "execution_count": null,
      "outputs": []
    },
    {
      "cell_type": "code",
      "source": [
        "\n",
        "extracted_data.iloc[pipeline.transform(extracted_data.iloc[0:1,6:15].to_numpy())[0]]\n"
      ],
      "metadata": {
        "id": "0z9RvK7rQuWh"
      },
      "execution_count": null,
      "outputs": []
    },
    {
      "cell_type": "code",
      "source": [
        "pipeline.transform(extracted_data.iloc[0:1,6:15].to_numpy())[0]\n"
      ],
      "metadata": {
        "id": "kKnUAJIsQuUG"
      },
      "execution_count": null,
      "outputs": []
    },
    {
      "cell_type": "markdown",
      "source": [
        "**Testing the model**"
      ],
      "metadata": {
        "id": "RtwGbAQOQx7c"
      }
    },
    {
      "cell_type": "code",
      "source": [
        "extracted_data[extracted_data['RecipeIngredientParts'].str.contains(\"egg\",regex=False)]\n"
      ],
      "metadata": {
        "id": "XjpuLo0jwbwT"
      },
      "execution_count": null,
      "outputs": []
    },
    {
      "cell_type": "markdown",
      "source": [
        "Creating an end to end function\n",
        "\n"
      ],
      "metadata": {
        "id": "q4KBolJ7Q_Yd"
      }
    },
    {
      "cell_type": "code",
      "source": [
        "def scaling(dataframe):\n",
        "    scaler=StandardScaler()\n",
        "    prep_data=scaler.fit_transform(dataframe.iloc[:,6:15].to_numpy())\n",
        "    return prep_data,scaler\n",
        "\n",
        "def nn_predictor(prep_data):\n",
        "    neigh = NearestNeighbors(metric='cosine',algorithm='brute')\n",
        "    neigh.fit(prep_data)\n",
        "    return neigh\n",
        "\n",
        "def build_pipeline(neigh,scaler,params):\n",
        "    transformer = FunctionTransformer(neigh.kneighbors,kw_args=params)\n",
        "    pipeline=Pipeline([('std_scaler',scaler),('NN',transformer)])\n",
        "    return pipeline\n",
        "\n",
        "def extract_data(dataframe,ingredient_filter,max_nutritional_values):\n",
        "    extracted_data=dataframe.copy()\n",
        "    for column,maximum in zip(extracted_data.columns[6:15],max_nutritional_values):\n",
        "        extracted_data=extracted_data[extracted_data[column]<maximum]\n",
        "    if ingredient_filter!=None:\n",
        "        for ingredient in ingredient_filter:\n",
        "            extracted_data=extracted_data[extracted_data['RecipeIngredientParts'].str.contains(ingredient,regex=False)]\n",
        "    return extracted_data\n",
        "\n",
        "def apply_pipeline(pipeline,_input,extracted_data):\n",
        "    return extracted_data.iloc[pipeline.transform(_input)[0]]\n",
        "\n",
        "def recommand(dataframe,_input,max_nutritional_values,ingredient_filter=None,params={'return_distance':False}):\n",
        "    extracted_data=extract_data(dataframe,ingredient_filter,max_nutritional_values)\n",
        "    prep_data,scaler=scaling(extracted_data)\n",
        "    neigh=nn_predictor(prep_data)\n",
        "    pipeline=build_pipeline(neigh,scaler,params)\n",
        "    return apply_pipeline(pipeline,_input,extracted_data)"
      ],
      "metadata": {
        "id": "RynpxBr4QpEP"
      },
      "execution_count": null,
      "outputs": []
    },
    {
      "cell_type": "code",
      "source": [
        "test_input=extracted_data.iloc[0:1,6:15].to_numpy()\n",
        "recommand(dataset,test_input,max_list)"
      ],
      "metadata": {
        "id": "X2U_dRtvRAvS"
      },
      "execution_count": null,
      "outputs": []
    },
    {
      "cell_type": "code",
      "source": [
        "# Assign the result of the function call to a variable\n",
        "recommendation_result = recommand(dataset, test_input, max_list)\n",
        "\n",
        "# Save the result DataFrame to a CSV file\n",
        "recommendation_result.to_csv('/content/drive/MyDrive/Grad Dataset/recommendations.csv', index=False)\n"
      ],
      "metadata": {
        "id": "v-y2k7A9jOGN"
      },
      "execution_count": null,
      "outputs": []
    },
    {
      "cell_type": "code",
      "source": [
        "from sklearn.cluster import KMeans\n",
        "from sklearn.decomposition import PCA\n",
        "\n",
        "# Apply PCA for visualization\n",
        "pca = PCA(n_components=2)\n",
        "pca_data = pca.fit_transform(prep_data)\n",
        "\n",
        "# Apply KMeans with different values of K\n",
        "inertias = []\n",
        "for k in range(1, 11):\n",
        "    kmeans = KMeans(n_clusters=k, random_state=42)\n",
        "    kmeans.fit(prep_data)\n",
        "    inertias.append(kmeans.inertia_)\n",
        "\n",
        "# Plot the Elbow Method\n",
        "plt.figure(figsize=(8, 4))\n",
        "plt.plot(range(1, 11), inertias, marker='o', linestyle='--')\n",
        "plt.xlabel('Number of Clusters (K)')\n",
        "plt.ylabel('Within-Cluster Sum of Squares (Inertia)')\n",
        "plt.title('Elbow Method for Optimal K')\n",
        "plt.xticks(range(1, 11))\n",
        "plt.grid(True)\n",
        "plt.show()\n",
        "\n"
      ],
      "metadata": {
        "id": "M-bI5oatjhER"
      },
      "execution_count": null,
      "outputs": []
    },
    {
      "cell_type": "code",
      "source": [],
      "metadata": {
        "id": "uY_yCt3cjhXH"
      },
      "execution_count": null,
      "outputs": []
    },
    {
      "cell_type": "code",
      "source": [],
      "metadata": {
        "id": "zk-MG0b7jhbi"
      },
      "execution_count": null,
      "outputs": []
    }
  ]
}